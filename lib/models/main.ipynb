{
 "cells": [
  {
   "cell_type": "code",
   "execution_count": 1,
   "metadata": {},
   "outputs": [],
   "source": [
    "import sys\n",
    "\n",
    "# Add a path to sys.path\n",
    "sys.path.append('../datasets')"
   ]
  },
  {
   "cell_type": "code",
   "execution_count": 2,
   "metadata": {},
   "outputs": [
    {
     "name": "stderr",
     "output_type": "stream",
     "text": [
      "/home/yousif/Desktop/All/IE_Third_Year_2/RS/Project_All/Tourism-Recommendation-System/lib/models/../datasets/Flights.py:12: FutureWarning: Not prepending group keys to the result index of transform-like apply. In the future, the group keys will be included in the index, regardless of whether the applied function returns a like-indexed object.\n",
      "To preserve the previous behavior, use\n",
      "\n",
      "\t>>> .groupby(..., group_keys=False)\n",
      "\n",
      "To adopt the future behavior and silence this warning, use \n",
      "\n",
      "\t>>> .groupby(..., group_keys=True)\n",
      "  df['bags_price'] = grouped_bag['bags_price'].apply(lambda x: x.fillna(x.dropna().iloc[0]) if x.isnull().values.any() else x)\n",
      "/home/yousif/Desktop/All/IE_Third_Year_2/RS/Project_All/Tourism-Recommendation-System/lib/models/../datasets/Flights.py:13: FutureWarning: Not prepending group keys to the result index of transform-like apply. In the future, the group keys will be included in the index, regardless of whether the applied function returns a like-indexed object.\n",
      "To preserve the previous behavior, use\n",
      "\n",
      "\t>>> .groupby(..., group_keys=False)\n",
      "\n",
      "To adopt the future behavior and silence this warning, use \n",
      "\n",
      "\t>>> .groupby(..., group_keys=True)\n",
      "  df['availability'] = grouped_avl['availability'].apply(lambda x: x.fillna(x.dropna().iloc[0]) if x.isnull().values.any() else x)\n",
      "/home/yousif/Desktop/All/IE_Third_Year_2/RS/Project_All/Tourism-Recommendation-System/lib/models/../datasets/data_structure.py:86: PerformanceWarning: DataFrame is highly fragmented.  This is usually the result of calling `frame.insert` many times, which has poor performance.  Consider joining all columns at once using pd.concat(axis=1) instead. To get a de-fragmented frame, use `newframe = frame.copy()`\n",
      "  pool_df[x] = y\n"
     ]
    }
   ],
   "source": [
    "from data_structure import data_strcture\n",
    "_, user_df, pool_df = data_strcture()"
   ]
  },
  {
   "cell_type": "code",
   "execution_count": 3,
   "metadata": {},
   "outputs": [],
   "source": [
    "user_df.to_csv('user_df.csv',index=False)\n",
    "pool_df.to_csv('pool_df.csv',index=False)\n"
   ]
  }
 ],
 "metadata": {
  "kernelspec": {
   "display_name": "Python 3",
   "language": "python",
   "name": "python3"
  },
  "language_info": {
   "codemirror_mode": {
    "name": "ipython",
    "version": 3
   },
   "file_extension": ".py",
   "mimetype": "text/x-python",
   "name": "python",
   "nbconvert_exporter": "python",
   "pygments_lexer": "ipython3",
   "version": "3.10.6"
  },
  "orig_nbformat": 4
 },
 "nbformat": 4,
 "nbformat_minor": 2
}
